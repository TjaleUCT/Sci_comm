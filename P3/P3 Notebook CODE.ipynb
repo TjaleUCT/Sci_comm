{
 "cells": [
  {
   "cell_type": "code",
   "execution_count": null,
   "id": "c73fa802-0d8a-468c-a9d7-f4b2962d1b44",
   "metadata": {},
   "outputs": [],
   "source": [
    "import matplotlib.pyplot as plt\n",
    "import cartopy.crs as ccrs\n",
    "import cartopy.feature as cfeature"
   ]
  },
  {
   "cell_type": "code",
   "execution_count": null,
   "id": "7c1adf35-ba06-44a4-93d7-d64716b4aa3e",
   "metadata": {},
   "outputs": [],
   "source": [
    "#adding gridlines\n",
    "def add_gridlines(ax):\n",
    "    ax.gridlines(draw_labels=True, linewidth=1, color='black', alpha=0.5, linestyle='--')\n",
    "    ax.set_xlabel('Longitude')\n",
    "    ax.set_ylabel('Latitude')"
   ]
  },
  {
   "cell_type": "code",
   "execution_count": null,
   "id": "531efe29-83e2-450e-84de-86d0fa7cf970",
   "metadata": {},
   "outputs": [],
   "source": [
    "#1.The Antarctic continent and the Southern Ocean starting from 60°S\n",
    "fig, ax = plt.subplots(figsize=(10, 10), subplot_kw=dict(projection=ccrs.SouthPolarStereo()))\n",
    "ax.set_extent([-180, 180, -90, -60], crs=ccrs.PlateCarree())\n",
    "ax.add_feature(cfeature.LAND, color='darkgray')\n",
    "ax.add_feature(cfeature.OCEAN, color='lightblue')\n",
    "ax.set_title('Antarctic Continent and Southern Ocean')\n",
    "\n",
    "add_gridlines(ax)\n",
    "plt.show()"
   ]
  },
  {
   "cell_type": "markdown",
   "id": "18011dd5-3e2d-4b1a-8152-4ff37873989f",
   "metadata": {},
   "source": [
    "The Antarctic continent and the Southern Ocean starting from 60°S map.\n",
    "The projection used is PlateCarree because I was depicting simple features of the region without too much geographic data. "
   ]
  },
  {
   "cell_type": "code",
   "execution_count": null,
   "id": "be7b0e9a-9cdc-415d-9e32-6adb4c145508",
   "metadata": {},
   "outputs": [],
   "source": [
    "#2. The South Atlantic, from 20°S to 50°S showing Walvis Bay, Cape Town, Rio de Janeiro, Montevideo\n",
    "fig, ax = plt.subplots(figsize=(10, 10), subplot_kw=dict(projection=ccrs.PlateCarree()))\n",
    "ax.set_extent([-60, 20, -40, 5], crs=ccrs.PlateCarree())\n",
    "ax.add_feature(cfeature.LAND, color='darkgray')\n",
    "ax.add_feature(cfeature.OCEAN, color='lightblue')\n",
    "ax.plot([-43.2027, 18.4241, 14.5053, -56.1645], [-22.9068, -33.9249, -22.9575, -34.9011], 'ro')\n",
    "ax.text(-43.2027, -22.9068, 'Rio de Janeiro', fontsize=10, ha='right') \n",
    "ax.text(18.4241, -33.9249, 'Cape Town', fontsize=10)\n",
    "ax.text(14.5053, -22.9575, 'Walvis Bay', fontsize=10, ha='right')  \n",
    "ax.text(-56.1645, -34.9011, 'Montevideo', fontsize=10, ha='right') \n",
    "ax.set_title('South Atlantic with Specific Locations')\n",
    "\n",
    "add_gridlines(ax)\n",
    "plt.show()"
   ]
  },
  {
   "cell_type": "markdown",
   "id": "b01569f2-311e-42c0-ab01-9a7c4e61d8e3",
   "metadata": {},
   "source": [
    "The South Atlantic map, from 20°S to 50°S, shows Walvis Bay, Cape Town, Rio de Janeiro and Montevideo.\n",
    "The projection used is PlateCarree because I was depicting simple features of the region without too much geographic data. "
   ]
  },
  {
   "cell_type": "code",
   "execution_count": null,
   "id": "536513f9-3150-427c-a5d2-3b3d1e3f1c00",
   "metadata": {},
   "outputs": [],
   "source": [
    "#3. A series of 3 panels showing the use of different coastline resolutions from the GSHHG database in a map of False Bay. .\n",
    "fig, axs = plt.subplots(1, 3, figsize=(15, 5), subplot_kw=dict(projection=ccrs.PlateCarree()))\n",
    "resolutions = ['110m', '50m', '10m']\n",
    "titles = ['Coarse Resolution', 'Intermediate Resolution', 'Full Resolution']\n",
    "\n",
    "for ax, resolution, title in zip(axs, resolutions, titles):\n",
    "    ax.set_extent([18, 19.5, -34.5, -33.5], crs=ccrs.PlateCarree())\n",
    "    ax.add_feature(cfeature.LAND)\n",
    "    ax.add_feature(cfeature.COASTLINE.with_scale(resolution))\n",
    "    ax.set_title(title)\n",
    "    add_gridlines(ax)\n",
    "\n",
    "plt.tight_layout()\n",
    "plt.show()"
   ]
  },
  {
   "cell_type": "markdown",
   "id": "b89eefe9-8ba2-4adc-b914-90eb9d0d412b",
   "metadata": {},
   "source": [
    "A series of 3 panels showing the use of different coastline resolutions in a map of False Bay, displaying the coarse, intermediate and full resolution.\n",
    "The projection used is PlateCarree because I was depicting simple features of the region without too much geographic data. "
   ]
  },
  {
   "cell_type": "code",
   "execution_count": null,
   "id": "3d049319-d8a4-4279-bede-f8c45202011e",
   "metadata": {},
   "outputs": [],
   "source": []
  }
 ],
 "metadata": {
  "kernelspec": {
   "display_name": "Python 3 (ipykernel)",
   "language": "python",
   "name": "python3"
  },
  "language_info": {
   "codemirror_mode": {
    "name": "ipython",
    "version": 3
   },
   "file_extension": ".py",
   "mimetype": "text/x-python",
   "name": "python",
   "nbconvert_exporter": "python",
   "pygments_lexer": "ipython3",
   "version": "3.9.19"
  }
 },
 "nbformat": 4,
 "nbformat_minor": 5
}
